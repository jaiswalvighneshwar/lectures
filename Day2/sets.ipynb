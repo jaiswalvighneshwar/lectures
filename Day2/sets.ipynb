{
 "cells": [
  {
   "cell_type": "code",
   "execution_count": 5,
   "metadata": {},
   "outputs": [
    {
     "name": "stdout",
     "output_type": "stream",
     "text": [
      "<type 'set'>\n",
      "set([])\n",
      "5\n",
      "set([8, 4, 5, 6, 7])\n"
     ]
    }
   ],
   "source": [
    "# in a set there cannot be duplicate data\n",
    "s1 = set()\n",
    "print type(s1)\n",
    "\n",
    "s2 = {4,5,6,4,6,7,8}\n",
    "print s1\n",
    "print len(s2)\n",
    "print s2"
   ]
  },
  {
   "cell_type": "code",
   "execution_count": 7,
   "metadata": {},
   "outputs": [
    {
     "name": "stdout",
     "output_type": "stream",
     "text": [
      "[45, 56, 45, 78, 56, 100, 100, 45, 34, 34, 32]\n",
      "set([32, 34, 100, 45, 78, 56])\n"
     ]
    }
   ],
   "source": [
    "marks = [45,56,45,78,56,100,100,45,34,34,32]\n",
    "print marks\n",
    "unique = set(marks)\n",
    "print unique\n"
   ]
  },
  {
   "cell_type": "code",
   "execution_count": 9,
   "metadata": {},
   "outputs": [
    {
     "name": "stdout",
     "output_type": "stream",
     "text": [
      "32\n",
      "34\n",
      "100\n",
      "45\n",
      "78\n",
      "56\n"
     ]
    }
   ],
   "source": [
    "for u in unique:\n",
    "    print u"
   ]
  },
  {
   "cell_type": "code",
   "execution_count": 18,
   "metadata": {},
   "outputs": [
    {
     "name": "stdout",
     "output_type": "stream",
     "text": [
      "set([32, 34, 67, 100, 45, 78, 56])\n"
     ]
    }
   ],
   "source": [
    "unique.add(32)\n",
    "print unique"
   ]
  },
  {
   "cell_type": "code",
   "execution_count": 27,
   "metadata": {},
   "outputs": [
    {
     "name": "stdout",
     "output_type": "stream",
     "text": [
      "set([32, 34, 67, 100, 45, 78, 56])\n",
      "set([32, 34, 100, 45, 78, 56])\n"
     ]
    }
   ],
   "source": [
    "unique.add(67)\n",
    "print unique\n",
    "unique.remove(67)\n",
    "print unique\n"
   ]
  },
  {
   "cell_type": "code",
   "execution_count": 28,
   "metadata": {},
   "outputs": [
    {
     "name": "stdout",
     "output_type": "stream",
     "text": [
      "set([56, 100, 45])\n",
      "set([34, 67])\n",
      "set([34, 67, 100, 98, 45, 23, 56, 90])\n",
      "set([100, 98, 45, 23, 56, 90])\n"
     ]
    }
   ],
   "source": [
    "m1 = {67,56,45,34,100}\n",
    "m2 = {98,67,34,90,23}\n",
    "\n",
    "print m1 - m2     # not in both but in one\n",
    "print m1 & m2     #present in both\n",
    "print m1 | m2     #uniion\n",
    "print m1 ^ m2     #either m1 or m2 but not in both"
   ]
  }
 ],
 "metadata": {
  "kernelspec": {
   "display_name": "Python 2",
   "language": "python",
   "name": "python2"
  },
  "language_info": {
   "codemirror_mode": {
    "name": "ipython",
    "version": 2
   },
   "file_extension": ".py",
   "mimetype": "text/x-python",
   "name": "python",
   "nbconvert_exporter": "python",
   "pygments_lexer": "ipython2",
   "version": "2.7.13"
  }
 },
 "nbformat": 4,
 "nbformat_minor": 2
}
