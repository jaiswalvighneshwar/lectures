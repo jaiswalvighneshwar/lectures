{
 "cells": [
  {
   "cell_type": "code",
   "execution_count": 1,
   "metadata": {},
   "outputs": [
    {
     "name": "stdout",
     "output_type": "stream",
     "text": [
      "<type 'list'>\n",
      "[]\n"
     ]
    }
   ],
   "source": [
    "list = []\n",
    "print type(list)\n",
    "print list"
   ]
  },
  {
   "cell_type": "code",
   "execution_count": 2,
   "metadata": {},
   "outputs": [
    {
     "name": "stdout",
     "output_type": "stream",
     "text": [
      "[0, 2, 4, 6]\n"
     ]
    }
   ],
   "source": [
    "evens = [0,2,4,6]\n",
    "print evens"
   ]
  },
  {
   "cell_type": "code",
   "execution_count": 3,
   "metadata": {},
   "outputs": [
    {
     "data": {
      "text/plain": [
       "4"
      ]
     },
     "execution_count": 3,
     "metadata": {},
     "output_type": "execute_result"
    }
   ],
   "source": [
    "evens[2]"
   ]
  },
  {
   "cell_type": "code",
   "execution_count": 4,
   "metadata": {},
   "outputs": [
    {
     "name": "stdout",
     "output_type": "stream",
     "text": [
      "[0, 2, 4, 20]\n"
     ]
    }
   ],
   "source": [
    "evens[3] = 20\n",
    "print evens"
   ]
  },
  {
   "cell_type": "code",
   "execution_count": 5,
   "metadata": {},
   "outputs": [
    {
     "name": "stdout",
     "output_type": "stream",
     "text": [
      "[0, 2, 4, 20, 10]\n"
     ]
    }
   ],
   "source": [
    "evens.append(10)\n",
    "print evens"
   ]
  },
  {
   "cell_type": "code",
   "execution_count": 7,
   "metadata": {},
   "outputs": [
    {
     "name": "stdout",
     "output_type": "stream",
     "text": [
      "[0, 2, 4, 20, 10, 12, 14, 16, 20, 34, 12, 14, 16, 18, 24]\n"
     ]
    }
   ],
   "source": [
    "evens.extend([12,14,16,18,24])\n",
    "print evens"
   ]
  },
  {
   "cell_type": "code",
   "execution_count": 8,
   "metadata": {},
   "outputs": [
    {
     "data": {
      "text/plain": [
       "24"
      ]
     },
     "execution_count": 8,
     "metadata": {},
     "output_type": "execute_result"
    }
   ],
   "source": [
    "evens.pop()"
   ]
  },
  {
   "cell_type": "code",
   "execution_count": 9,
   "metadata": {},
   "outputs": [
    {
     "name": "stdout",
     "output_type": "stream",
     "text": [
      "[0, 2, 4, 20, 10, 12, 14, 16, 20, 34, 12, 14, 16]\n"
     ]
    }
   ],
   "source": [
    "evens.pop()\n",
    "print evens"
   ]
  },
  {
   "cell_type": "code",
   "execution_count": 6,
   "metadata": {},
   "outputs": [
    {
     "name": "stdout",
     "output_type": "stream",
     "text": [
      "[0, 2, 4, 20, 10, 12, 14, 16, 20, 34]\n"
     ]
    }
   ],
   "source": [
    "evens.extend([12,14,16,20,34])\n",
    "print evens\n"
   ]
  },
  {
   "cell_type": "code",
   "execution_count": null,
   "metadata": {
    "collapsed": true
   },
   "outputs": [],
   "source": [
    "evens.extend([12,14,16,20,34])\n",
    "print evens\n"
   ]
  },
  {
   "cell_type": "code",
   "execution_count": 11,
   "metadata": {},
   "outputs": [
    {
     "name": "stdout",
     "output_type": "stream",
     "text": [
      "[0, 20, 10, 12, 14, 16, 20, 34, 12, 14, 16]\n"
     ]
    }
   ],
   "source": [
    "evens.pop(1)  # providing a value removes the item at that position. list begins at 0\n",
    "print evens"
   ]
  },
  {
   "cell_type": "code",
   "execution_count": 14,
   "metadata": {},
   "outputs": [
    {
     "data": {
      "text/plain": [
       "[10, 12]"
      ]
     },
     "execution_count": 14,
     "metadata": {},
     "output_type": "execute_result"
    }
   ],
   "source": [
    "evens[2:4] # start index is inclusive , end index is exclusive"
   ]
  },
  {
   "cell_type": "code",
   "execution_count": 16,
   "metadata": {},
   "outputs": [
    {
     "name": "stdout",
     "output_type": "stream",
     "text": [
      "11\n",
      "[0, 20, 10, 12, 14, 16, 20, 34, 12, 14, 16]\n"
     ]
    }
   ],
   "source": [
    "print len(evens)\n",
    "print str(evens)"
   ]
  },
  {
   "cell_type": "code",
   "execution_count": 6,
   "metadata": {},
   "outputs": [
    {
     "name": "stdout",
     "output_type": "stream",
     "text": [
      "[0, 2, 4, 20, 10, 12, 14, 16, 20, 34]\n"
     ]
    }
   ],
   "source": [
    "evens.extend([12,14,16,20,34])\n",
    "print evens\n"
   ]
  },
  {
   "cell_type": "code",
   "execution_count": 19,
   "metadata": {},
   "outputs": [
    {
     "name": "stdout",
     "output_type": "stream",
     "text": [
      "[10, 12]\n",
      "[0, 20, 10]\n",
      "[10, 12, 14, 16, 20, 34, 12, 14, 16]\n",
      "[10, 12, 14, 16, 20, 34, 12, 14, 16]\n",
      "[10, 12, 14, 16, 20, 34, 12, 14, 16]\n"
     ]
    }
   ],
   "source": [
    "print evens[2:4]\n",
    "print evens[:3]\n",
    "print evens[2:]\n",
    "print evens[2:len(evens)+1]\n",
    "print evens[2:len(evens)]"
   ]
  },
  {
   "cell_type": "code",
   "execution_count": 22,
   "metadata": {},
   "outputs": [
    {
     "name": "stdout",
     "output_type": "stream",
     "text": [
      "[0, 20, 40, 40, 40, 10, 12, 14, 16, 20, 34, 12, 14, 16]\n"
     ]
    }
   ],
   "source": [
    "evens.insert(2,40) # insert adds a value at index 2 the value 40\n",
    "print evens"
   ]
  },
  {
   "cell_type": "code",
   "execution_count": 25,
   "metadata": {},
   "outputs": [
    {
     "name": "stdout",
     "output_type": "stream",
     "text": [
      "[0, 20, 40, 40, 40, 10, 12, 14, 16, 20, 34, 12, 14, 16, 80, 80]\n"
     ]
    }
   ],
   "source": [
    "evens.insert(len(evens)+1,80)\n",
    "print evens"
   ]
  },
  {
   "cell_type": "code",
   "execution_count": 27,
   "metadata": {},
   "outputs": [
    {
     "name": "stdout",
     "output_type": "stream",
     "text": [
      "True\n",
      "True\n",
      "False\n"
     ]
    }
   ],
   "source": [
    "# in checks whether the element is in index\n",
    "print 10 in evens\n",
    "print 80 in evens\n",
    "print 100 in evens"
   ]
  },
  {
   "cell_type": "code",
   "execution_count": 28,
   "metadata": {},
   "outputs": [
    {
     "name": "stdout",
     "output_type": "stream",
     "text": [
      "2\n"
     ]
    }
   ],
   "source": [
    "print evens.index(40)   #gives you the first appearance"
   ]
  },
  {
   "cell_type": "code",
   "execution_count": 29,
   "metadata": {},
   "outputs": [
    {
     "name": "stdout",
     "output_type": "stream",
     "text": [
      "3\n",
      "1\n",
      "0\n"
     ]
    }
   ],
   "source": [
    "print evens.count(40)   #gives the number of times a value exists\n",
    "print evens.count(10)\n",
    "print evens.count(100)"
   ]
  },
  {
   "cell_type": "code",
   "execution_count": 30,
   "metadata": {},
   "outputs": [
    {
     "name": "stdout",
     "output_type": "stream",
     "text": [
      "0\n",
      "20\n",
      "40\n",
      "40\n",
      "40\n",
      "10\n",
      "12\n",
      "14\n",
      "16\n",
      "20\n",
      "34\n",
      "12\n",
      "14\n",
      "16\n",
      "80\n",
      "80\n"
     ]
    }
   ],
   "source": [
    "for item in evens:\n",
    "    print item"
   ]
  },
  {
   "cell_type": "code",
   "execution_count": 40,
   "metadata": {},
   "outputs": [
    {
     "name": "stdout",
     "output_type": "stream",
     "text": [
      "None\n",
      "[0, 10, 12, 12, 14, 14, 16, 16, 20, 20, 34, 40, 40, 40, 80, 80]\n",
      "None\n",
      "[80, 80, 40, 40, 40, 34, 20, 20, 16, 16, 14, 14, 12, 12, 10, 0]\n",
      "80\n",
      "0\n"
     ]
    }
   ],
   "source": [
    "print evens.sort()  #sorts the list in ascending order\n",
    "print evens\n",
    "print evens.reverse() #reverses  the list \n",
    "print evens\n",
    "print max(evens)   #gives the max value in the list\n",
    "print min(evens)  # gives the min value in the list"
   ]
  },
  {
   "cell_type": "code",
   "execution_count": 44,
   "metadata": {},
   "outputs": [
    {
     "name": "stdout",
     "output_type": "stream",
     "text": [
      "[7, 5, 3, 9, 11, 13, 15, 19, 21, 25, 27, 39]\n",
      "[39, 27, 25, 21, 19, 15, 13, 11, 9, 7, 5, 3]\n",
      "[3, 5, 7, 9, 11, 13, 15, 19, 21, 25, 27, 39]\n"
     ]
    }
   ],
   "source": [
    "odds =[7,5,3,9,11,13,15,19,21,25,27,39]\n",
    "print odds\n",
    "odds.sort(reverse=True)   # sorts in descending order\n",
    "print odds\n",
    "odds.sort()\n",
    "print odds"
   ]
  },
  {
   "cell_type": "code",
   "execution_count": 45,
   "metadata": {},
   "outputs": [
    {
     "name": "stdout",
     "output_type": "stream",
     "text": [
      "[[3, 4, 5], [5, 3, 2], [6, 7, 8]]\n"
     ]
    }
   ],
   "source": [
    "m = [\n",
    "    [3,4,5],\n",
    "    [5,3,2],\n",
    "    [6,7,8],\n",
    "    \n",
    "]\n",
    "print m"
   ]
  },
  {
   "cell_type": "code",
   "execution_count": 51,
   "metadata": {},
   "outputs": [
    {
     "data": {
      "text/plain": [
       "1"
      ]
     },
     "execution_count": 51,
     "metadata": {},
     "output_type": "execute_result"
    }
   ],
   "source": [
    "m[1][1]\n",
    "m[1].count(3)\n"
   ]
  },
  {
   "cell_type": "code",
   "execution_count": 62,
   "metadata": {},
   "outputs": [
    {
     "name": "stdout",
     "output_type": "stream",
     "text": [
      "4\n",
      "4\n"
     ]
    }
   ],
   "source": [
    "d = [\n",
    "    [                                    #d[0]\n",
    "        [4,5],\n",
    "        [6,7]\n",
    "    ],\n",
    "    [                                  #d[1]\n",
    "            [10,4],\n",
    "        [9,4]\n",
    "    ]\n",
    "]\n",
    "print d[0][0][0]\n",
    "print d[1][0][1]"
   ]
  },
  {
   "cell_type": "code",
   "execution_count": null,
   "metadata": {
    "collapsed": true
   },
   "outputs": [],
   "source": [
    "\n"
   ]
  }
 ],
 "metadata": {
  "kernelspec": {
   "display_name": "Python 2",
   "language": "python",
   "name": "python2"
  },
  "language_info": {
   "codemirror_mode": {
    "name": "ipython",
    "version": 2
   },
   "file_extension": ".py",
   "mimetype": "text/x-python",
   "name": "python",
   "nbconvert_exporter": "python",
   "pygments_lexer": "ipython2",
   "version": "2.7.13"
  }
 },
 "nbformat": 4,
 "nbformat_minor": 2
}
