{
 "cells": [
  {
   "cell_type": "code",
   "execution_count": 21,
   "metadata": {
    "collapsed": true
   },
   "outputs": [],
   "source": [
    "nos = [7,8,3,6,10,6,2,4,5,6,7,8,9,93,4,54,3,43,5,100]"
   ]
  },
  {
   "cell_type": "code",
   "execution_count": 5,
   "metadata": {},
   "outputs": [
    {
     "name": "stdout",
     "output_type": "stream",
     "text": [
      "40353607\n",
      "1073741824\n",
      "243\n",
      "1679616\n",
      "1000000000000\n",
      "1679616\n"
     ]
    }
   ],
   "source": [
    "for n in nos :\n",
    "    print n * n * n ** n\n",
    "    "
   ]
  },
  {
   "cell_type": "code",
   "execution_count": 6,
   "metadata": {},
   "outputs": [
    {
     "name": "stdout",
     "output_type": "stream",
     "text": [
      "<type 'function'>\n"
     ]
    }
   ],
   "source": [
    "print type(input)"
   ]
  },
  {
   "cell_type": "code",
   "execution_count": 13,
   "metadata": {
    "collapsed": true
   },
   "outputs": [],
   "source": [
    "def for_each(elements,func):\n",
    "    for ele in elements:\n",
    "        func(ele)\n",
    "    "
   ]
  },
  {
   "cell_type": "code",
   "execution_count": 14,
   "metadata": {},
   "outputs": [
    {
     "name": "stdout",
     "output_type": "stream",
     "text": [
      "7\n",
      "8\n",
      "3\n",
      "6\n",
      "10\n",
      "6\n"
     ]
    }
   ],
   "source": [
    "def print_all(items):\n",
    "    print items\n",
    "\n",
    "for_each(nos,print_all)  #prints all elements\n"
   ]
  },
  {
   "cell_type": "code",
   "execution_count": 23,
   "metadata": {},
   "outputs": [
    {
     "name": "stdout",
     "output_type": "stream",
     "text": [
      "343\n",
      "512\n",
      "27\n",
      "216\n",
      "1000\n",
      "216\n",
      "8\n",
      "64\n",
      "125\n",
      "216\n",
      "343\n",
      "512\n",
      "729\n",
      "804357\n",
      "64\n",
      "157464\n",
      "27\n",
      "79507\n",
      "125\n",
      "1000000\n"
     ]
    }
   ],
   "source": [
    "def print_cube(items):\n",
    "    print items ** 3\n",
    "    \n",
    "for_each(nos,print_cube)  #print cubes of all elemets"
   ]
  },
  {
   "cell_type": "code",
   "execution_count": 24,
   "metadata": {},
   "outputs": [
    {
     "name": "stdout",
     "output_type": "stream",
     "text": [
      "8\n",
      "6\n",
      "10\n",
      "6\n",
      "2\n",
      "4\n",
      "6\n",
      "8\n",
      "4\n",
      "54\n",
      "100\n"
     ]
    }
   ],
   "source": [
    "def print_even_numbers(items):\n",
    "    if items % 2 == 0:\n",
    "        print items\n",
    "    \n",
    "\n",
    "for_each(nos,print_even_numbers)  #prints  only even elements"
   ]
  },
  {
   "cell_type": "code",
   "execution_count": 31,
   "metadata": {
    "collapsed": true
   },
   "outputs": [],
   "source": [
    "x = 5"
   ]
  },
  {
   "cell_type": "markdown",
   "metadata": {
    "collapsed": true
   },
   "source": [
    "def fun1():\n",
    "    t = 7\n",
    "    def fun2():\n",
    "        print \"hello\"\n",
    "        print t         #can access the enclosing function variables\n",
    "    return fun2"
   ]
  },
  {
   "cell_type": "code",
   "execution_count": 29,
   "metadata": {},
   "outputs": [
    {
     "name": "stdout",
     "output_type": "stream",
     "text": [
      "hello\n",
      "7\n"
     ]
    }
   ],
   "source": [
    "f2 = fun1()\n",
    "f2()"
   ]
  },
  {
   "cell_type": "code",
   "execution_count": 40,
   "metadata": {
    "collapsed": true
   },
   "outputs": [],
   "source": [
    "def increment_by(what):      # this is a function returning a function. it returns a the function incr \n",
    "    def incr(y):\n",
    "        return what+y\n",
    "    return incr             #increment_by is the outer function and returns inner function"
   ]
  },
  {
   "cell_type": "code",
   "execution_count": 39,
   "metadata": {},
   "outputs": [
    {
     "name": "stdout",
     "output_type": "stream",
     "text": [
      "12\n",
      "21\n"
     ]
    }
   ],
   "source": [
    "incr_by_2 = increment_by(2)\n",
    "print incr_by_2(10)\n",
    "\n",
    "incr_by_6 = increment_by(6)\n",
    "print incr_by_6(15)"
   ]
  },
  {
   "cell_type": "code",
   "execution_count": 41,
   "metadata": {
    "collapsed": true
   },
   "outputs": [],
   "source": [
    "def abc(pqr):\n",
    "    x = 7\n",
    "    return pqr(x)\n"
   ]
  },
  {
   "cell_type": "code",
   "execution_count": 44,
   "metadata": {},
   "outputs": [
    {
     "name": "stdout",
     "output_type": "stream",
     "text": [
      "54\n"
     ]
    }
   ],
   "source": [
    "#use of lamba , when there is only one line expression can be written as a variable using lambda\n",
    "'''def f1(i):\n",
    "    return i ** 2 + 5  '''\n",
    "print abc(lambda i : i **2 + 5)"
   ]
  },
  {
   "cell_type": "code",
   "execution_count": null,
   "metadata": {
    "collapsed": true
   },
   "outputs": [],
   "source": []
  }
 ],
 "metadata": {
  "kernelspec": {
   "display_name": "Python 2",
   "language": "python",
   "name": "python2"
  },
  "language_info": {
   "codemirror_mode": {
    "name": "ipython",
    "version": 2
   },
   "file_extension": ".py",
   "mimetype": "text/x-python",
   "name": "python",
   "nbconvert_exporter": "python",
   "pygments_lexer": "ipython2",
   "version": "2.7.13"
  }
 },
 "nbformat": 4,
 "nbformat_minor": 2
}
