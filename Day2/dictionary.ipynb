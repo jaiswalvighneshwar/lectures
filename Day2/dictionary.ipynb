{
 "cells": [
  {
   "cell_type": "code",
   "execution_count": 5,
   "metadata": {},
   "outputs": [
    {
     "name": "stdout",
     "output_type": "stream",
     "text": [
      "<type 'dict'>\n",
      "{'lastname': 'Jaiswal', 'name': 'Vighneshwar'}\n",
      "<built-in method keys of dict object at 0x7feb03e7d6e0>\n",
      "<built-in method values of dict object at 0x7feb03e7d6e0>\n"
     ]
    }
   ],
   "source": [
    "m3 = {}\n",
    "print type(m3)\n",
    "m3 = {'name':'Vighneshwar','lastname':'Jaiswal'}\n",
    "print m3\n",
    "print m3.keys\n",
    "print m3.values"
   ]
  },
  {
   "cell_type": "code",
   "execution_count": 15,
   "metadata": {},
   "outputs": [
    {
     "name": "stdout",
     "output_type": "stream",
     "text": [
      "{12: 'jane', 45: 'rock', 23: 'mehul'}\n",
      "jane\n",
      "{12: 'Jane', 45: 'rock', 23: 'mehul'}\n",
      "{3: 'Rahul', 12: 'Jane', 45: 'rock', 23: 'mehul'}\n",
      "{5: 'Vinit', 3: 'Rahul', 12: 'Jane', 45: 'rock', 23: 'mehul'}\n",
      "5\n"
     ]
    }
   ],
   "source": [
    "d2 = {23:'mehul',12:'jane',45:'rock'}\n",
    "print d2\n",
    "print d2[12]\n",
    "d2[12] = 'Jane'\n",
    "print d2\n",
    "d2[3] = \"Rahul\"\n",
    "print d2\n",
    "d2[5] = 'Vinit'\n",
    "print d2\n",
    "print len(d2)\n"
   ]
  },
  {
   "cell_type": "code",
   "execution_count": 21,
   "metadata": {},
   "outputs": [
    {
     "name": "stdout",
     "output_type": "stream",
     "text": [
      "5\n",
      "3\n",
      "12\n",
      "45\n",
      "23\n",
      "5 : Vinit\n",
      "3 : Rahul\n",
      "12 : Jane\n",
      "45 : rock\n",
      "23 : mehul\n"
     ]
    }
   ],
   "source": [
    "for k in d2:\n",
    "    print k\n",
    "\n",
    "for item in d2:\n",
    "    print item , ':', d2[item]"
   ]
  },
  {
   "cell_type": "code",
   "execution_count": 22,
   "metadata": {},
   "outputs": [
    {
     "name": "stdout",
     "output_type": "stream",
     "text": [
      "<built-in method items of dict object at 0x7feb03e9e910>\n",
      "<built-in method iteritems of dict object at 0x7feb03e9e910>\n",
      "<built-in method iterkeys of dict object at 0x7feb03e9e910>\n",
      "<built-in method itervalues of dict object at 0x7feb03e9e910>\n"
     ]
    }
   ],
   "source": [
    "print d2.items\n",
    "print d2.iteritems\n",
    "print d2.iterkeys\n",
    "print d2.itervalues"
   ]
  },
  {
   "cell_type": "code",
   "execution_count": 23,
   "metadata": {},
   "outputs": [
    {
     "name": "stdout",
     "output_type": "stream",
     "text": [
      "5 | Vinit\n",
      "3 | Rahul\n",
      "12 | Jane\n",
      "45 | rock\n",
      "23 | mehul\n"
     ]
    }
   ],
   "source": [
    "for k,v in d2.iteritems():\n",
    "    print str(k) ,\"|\" , str(v)"
   ]
  },
  {
   "cell_type": "code",
   "execution_count": 27,
   "metadata": {},
   "outputs": [
    {
     "name": "stdout",
     "output_type": "stream",
     "text": [
      "True\n"
     ]
    }
   ],
   "source": [
    "print 'Vinit' in d2.values()"
   ]
  },
  {
   "cell_type": "code",
   "execution_count": 36,
   "metadata": {},
   "outputs": [
    {
     "name": "stdout",
     "output_type": "stream",
     "text": [
      "{'B002': ('Title 2', 400, 600), 'B001': ('Title 1', 100, 500)}\n",
      "Title 2\n",
      "True\n"
     ]
    }
   ],
   "source": [
    "books = {'B001':('Title 1',100,500),'B002':('Title 2',400,600)}\n",
    "print books\n",
    "print books['B002'][0]\n",
    "print 'Title 2' in books['B002']"
   ]
  },
  {
   "cell_type": "code",
   "execution_count": 48,
   "metadata": {},
   "outputs": [
    {
     "data": {
      "text/plain": [
       "[25, 36, 9, 16, 49, 64, 121, 169, 2025, 1156, 3136, 4489, 7921, 8281]"
      ]
     },
     "execution_count": 48,
     "metadata": {},
     "output_type": "execute_result"
    }
   ],
   "source": [
    "nos = [5,6,3,4,7,8,11,13,45,34,56,67,89,91]\n",
    "squares = []\n",
    "for  item in nos:\n",
    "    squares.append(item**2)\n",
    "    \n",
    "squares\n"
   ]
  },
  {
   "cell_type": "code",
   "execution_count": 42,
   "metadata": {},
   "outputs": [
    {
     "name": "stdout",
     "output_type": "stream",
     "text": [
      "[25, 36, 9, 16, 49, 64]\n"
     ]
    }
   ],
   "source": [
    "#for comprehesion\n",
    "sq = [n ** 2 for n in nos]\n",
    "print sq"
   ]
  },
  {
   "cell_type": "code",
   "execution_count": 44,
   "metadata": {},
   "outputs": [
    {
     "name": "stdout",
     "output_type": "stream",
     "text": [
      "[216, 64, 512]\n"
     ]
    }
   ],
   "source": [
    "evsq = [n ** 3 for n in nos if n % 2 == 0]\n",
    "print evsq"
   ]
  },
  {
   "cell_type": "code",
   "execution_count": 73,
   "metadata": {},
   "outputs": [
    {
     "name": "stdout",
     "output_type": "stream",
     "text": [
      "<type 'dict'>\n",
      "{'a': 1, 'c': 9, 'b': 4, 'e': 25, 'd': 16, 'g': 64, 'f': 49}\n"
     ]
    }
   ],
   "source": [
    "strlst = {'a':1,'b':2,'c':3,'d':4,'e':5,'f':7,'g':8}\n",
    "sqrlst = {n:strlst[n] ** 2 for n in strlst}\n",
    "print type(sqrlst)\n",
    "print sqrlst"
   ]
  },
  {
   "cell_type": "code",
   "execution_count": null,
   "metadata": {
    "collapsed": true
   },
   "outputs": [],
   "source": []
  },
  {
   "cell_type": "code",
   "execution_count": 49,
   "metadata": {},
   "outputs": [
    {
     "name": "stdout",
     "output_type": "stream",
     "text": [
      "[49, 121, 169, 2025, 4489, 7921, 8281]\n"
     ]
    }
   ],
   "source": [
    "odds = [n ** 2 for n in nos if n % 2 != 0 and n > 5]\n",
    "print odds"
   ]
  }
 ],
 "metadata": {
  "kernelspec": {
   "display_name": "Python 2",
   "language": "python",
   "name": "python2"
  },
  "language_info": {
   "codemirror_mode": {
    "name": "ipython",
    "version": 2
   },
   "file_extension": ".py",
   "mimetype": "text/x-python",
   "name": "python",
   "nbconvert_exporter": "python",
   "pygments_lexer": "ipython2",
   "version": "2.7.13"
  }
 },
 "nbformat": 4,
 "nbformat_minor": 2
}
