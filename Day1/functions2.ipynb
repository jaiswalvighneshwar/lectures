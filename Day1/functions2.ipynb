{
 "cells": [
  {
   "cell_type": "code",
   "execution_count": 1,
   "metadata": {},
   "outputs": [
    {
     "name": "stdout",
     "output_type": "stream",
     "text": [
      "False\n",
      "True\n",
      "False\n",
      "True\n",
      "False\n",
      "True\n"
     ]
    }
   ],
   "source": [
    "print 5 == 6\n",
    "print 5 != 6\n",
    "print 5 > 6 \n",
    "print 5 < 6\n",
    "x = (5 > 4) and (3 < 2)\n",
    "print x\n",
    "y = (5 > 6) or (3 < 6)\n",
    "print y"
   ]
  },
  {
   "cell_type": "code",
   "execution_count": 11,
   "metadata": {},
   "outputs": [
    {
     "name": "stdout",
     "output_type": "stream",
     "text": [
      "enter N: 6455\n",
      "6455.0 is odd\n"
     ]
    }
   ],
   "source": [
    "x = float(raw_input(\"enter N: \"))\n",
    "if x % 2 == 0:\n",
    "    print str(x),\"is Even\"\n",
    "else :\n",
    "    print str(x),\"is odd\"\n",
    "    "
   ]
  },
  {
   "cell_type": "code",
   "execution_count": 17,
   "metadata": {},
   "outputs": [
    {
     "name": "stdout",
     "output_type": "stream",
     "text": [
      "Enter marks: 25\n",
      "Fail\n"
     ]
    }
   ],
   "source": [
    "marks = float(raw_input(\"Enter marks: \"))\n",
    "if marks >100 or marks <0:\n",
    "    print str(marks) , \" is invalid\"\n",
    "elif marks >= 40:\n",
    "    print \"C\"\n",
    "elif marks >= 60:\n",
    "    print \"B\"\n",
    "elif marks >=70 :\n",
    "      print \"a\"\n",
    "else :\n",
    "    print \"Fail\""
   ]
  },
  {
   "cell_type": "code",
   "execution_count": null,
   "metadata": {
    "collapsed": true
   },
   "outputs": [],
   "source": [
    ":"
   ]
  }
 ],
 "metadata": {
  "kernelspec": {
   "display_name": "Python 2",
   "language": "python",
   "name": "python2"
  },
  "language_info": {
   "codemirror_mode": {
    "name": "ipython",
    "version": 2
   },
   "file_extension": ".py",
   "mimetype": "text/x-python",
   "name": "python",
   "nbconvert_exporter": "python",
   "pygments_lexer": "ipython2",
   "version": "2.7.13"
  }
 },
 "nbformat": 4,
 "nbformat_minor": 2
}
