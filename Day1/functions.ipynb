{
 "cells": [
  {
   "cell_type": "code",
   "execution_count": 21,
   "metadata": {},
   "outputs": [
    {
     "name": "stdout",
     "output_type": "stream",
     "text": [
      "True\n"
     ]
    }
   ],
   "source": [
    "a = -6 \n",
    "b = -6\n",
    "print a == b  #compare value present at the address\n"
   ]
  },
  {
   "cell_type": "code",
   "execution_count": 22,
   "metadata": {},
   "outputs": [
    {
     "name": "stdout",
     "output_type": "stream",
     "text": [
      "19255544\n",
      "20209272\n",
      "False\n"
     ]
    }
   ],
   "source": [
    "print id(a)\n",
    "print id(b)\n",
    "print a is b   #compares the address"
   ]
  },
  {
   "cell_type": "code",
   "execution_count": 23,
   "metadata": {},
   "outputs": [
    {
     "name": "stdout",
     "output_type": "stream",
     "text": [
      "20254000\n",
      "20253976\n",
      "False\n",
      "True\n"
     ]
    }
   ],
   "source": [
    "x = 257\n",
    "y = 257    #python strores value in the cache for numbers [[-5 to 256]]\n",
    "\n",
    "print id(x)\n",
    "print id(y)\n",
    "print x is y \n",
    "print x==y"
   ]
  },
  {
   "cell_type": "code",
   "execution_count": 24,
   "metadata": {},
   "outputs": [
    {
     "name": "stdout",
     "output_type": "stream",
     "text": [
      "True\n"
     ]
    }
   ],
   "source": [
    "p = q = 258\n",
    "print p is q "
   ]
  },
  {
   "cell_type": "code",
   "execution_count": 29,
   "metadata": {},
   "outputs": [
    {
     "name": "stdout",
     "output_type": "stream",
     "text": [
      "True\n"
     ]
    }
   ],
   "source": [
    "r = 256\n",
    "t = 257 - 1\n",
    "print r is t"
   ]
  },
  {
   "cell_type": "code",
   "execution_count": 30,
   "metadata": {},
   "outputs": [
    {
     "name": "stdout",
     "output_type": "stream",
     "text": [
      "True\n",
      "True\n",
      "True\n",
      "False\n",
      "True\n",
      "True\n",
      "True\n",
      "False\n"
     ]
    }
   ],
   "source": [
    "n1 =\"VJ\"\n",
    "n2 = \"VJ\"  # caching occurs for A-Z a-z, 0-9 [a-z-A-z-0-9]\n",
    "n3 = 'Vighneshwar Jaiswal' # address becomes different for spaces\n",
    "n4 = 'Vighneshwar Jaiswal'\n",
    "n5 = \"VJ25\"\n",
    "n6 = \"VJ25\"\n",
    "n7 = \"VJ@\"\n",
    "n8 = \"VJ@\"\n",
    "\n",
    "print n1 == n2\n",
    "print n1 is n2\n",
    "\n",
    "print n3 == n4\n",
    "print n3 is n4\n",
    "\n",
    "print n5 == n6\n",
    "print n5 is n6\n",
    "\n",
    "print n7 == n8\n",
    "print n7 is n8"
   ]
  }
 ],
 "metadata": {
  "kernelspec": {
   "display_name": "Python 2",
   "language": "python",
   "name": "python2"
  },
  "language_info": {
   "codemirror_mode": {
    "name": "ipython",
    "version": 2
   },
   "file_extension": ".py",
   "mimetype": "text/x-python",
   "name": "python",
   "nbconvert_exporter": "python",
   "pygments_lexer": "ipython2",
   "version": "2.7.13"
  }
 },
 "nbformat": 4,
 "nbformat_minor": 2
}
